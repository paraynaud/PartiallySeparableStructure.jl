{
 "cells": [
  {
   "cell_type": "markdown",
   "metadata": {},
   "source": [
    "# Pré-requis\n",
    " - Avoir lu l'explication de la structure.\n",
    " - Pour retrouver les fichiers qui seront cités par la suite il faut se placer dans le répertoire: \n",
    "    - src/type_expr/ \n",
    " \n",
    "# Objectifs\n",
    " - Ce fichier à pour but d'expliquer le contenu du répertoire type_expr\n",
    " - Définition des types de fonctions potentiels :\n",
    "    - constant\n",
    "    - linéaire\n",
    "    - quadratique\n",
    "    - plus \n",
    " - Utiliser ces types pour typer les arbres d'expressions de nos fonctions éléments. On obtiendra à la fin un arbre ayant la même forme (chaque noeuds aura le même nombre de fils), mais au lieu d'avoir les opérations/variable/constantes dans les noeuds on aura des types.\n",
    "\n",
    "\n",
    "# Important \n",
    "- Je codais cette partie à peu près à ce moment nous avons eu une discussion avec Mr. Bigeon et celui-ci m'a dit que je devrais peut-être passé moins de temps à chercher de la généricité dans mon programme. C'est pour cette raison que je ne me suis pas attardé à faire tous les fichiers que j'avais fais pour les autres répertoire et seulement une partie.\n",
    "\n",
    "- Ce répertoire là arrive historiquement après : tree / node_expr_tree / expr_tree. Cependant comme mentionné dans l'explication de node_expr_tree, il est placé précemment à node_expr_tree dans le graphe de dépendance entre objets.\n",
    "\n",
    "\n",
    "# Explications\n",
    "\n",
    "La création de type de fonction est motivé par l'étape dans notre programme où l'on cherche à obtenir le type d'une fonction élément grâce à son arbre d'expression. Dans cette partie de l'algorithme il faut tout d'abord définir les types qui nous intéresse que j'ai déjà plus ou moins préciseré; puis il faut établir des règles pour typer récursivement chaque noeud en fonction de son opération et des types de ses fils.\n",
    "\n",
    "J'ai commencé par faire une première version contenant les types minimum, sans convexité, sans distinction entre fonctions polynomial et non-polynomial, seulement les types décris dans les Objectifs: \n",
    " - constant\n",
    " - linéaire\n",
    " - quadratique\n",
    " - plus \n",
    "\n",
    "Pour le moment j'ai écris les règles de typage pour :\n",
    " - les feuilles de l'arbre:\n",
    "    - variables et constantes\n",
    " - pour un partie des opérations que j'ai intégré:\n",
    "   - +, -, x, sin/cos/tan\n",
    "\n",
    "\n",
    "\n",
    "# Note pour moi même\n",
    "- il faudrait reprendre ce répertoire et l'algo pour déterminer les types et faire chaque règle dans le répertoire type_expr/, y compris celles du +,- ...\n"
   ]
  }
 ],
 "metadata": {
  "kernelspec": {
   "display_name": "Julia 1.0.3",
   "language": "julia",
   "name": "julia-1.0"
  },
  "language_info": {
   "file_extension": ".jl",
   "mimetype": "application/julia",
   "name": "julia",
   "version": "1.0.3"
  }
 },
 "nbformat": 4,
 "nbformat_minor": 2
}
