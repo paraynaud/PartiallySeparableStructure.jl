{
 "cells": [
  {
   "cell_type": "markdown",
   "metadata": {},
   "source": [
    "#  Prérequis\n",
    "Nécessité d'avoir lu le jupyter-notebook : explication_structure.md précédemment.\n",
    "\n",
    "# Contenu du répertoire\n",
    "Dans ce fichier on détaille le fonctionnement du répertoire tree.\n",
    "Comme expliqué dans explication_structure.md, le répertoire est constitué \n",
    " - un fichier ordered_include.jl qui fait attention à ce que les fichiers soient appelé dans le bon ordre.\n",
    " - d'une interface : itf_tree.jl. Dans ce fichier sont décris les fonctions qu'il me semble nécessaire pour qu'un objet puisse être traiter comme un objet.\n",
    " - un type abstrait : abs_tree.jl, servant à définir un constructeur, et également à faire une hiérachie entre les types.\n",
    " - s'en suit 2 implémentations de comportements d'arbre:\n",
    "   - La première étant une simple structure d'arbre : impl_tree.jl, j'y défini un structure d'arbre et les fonctions nécessaire défini dans l'interface, ainsi qu'un constructeur générique.\n",
    "   - La seconde : impl_tree_Expr.jl, ce fichier fait le lien pour traiter une Expr comme un arbre, ainsi qu'un constructeur.\n",
    " - finalement : tr_tree.jl, le trait vérifiant qu'un type vérifie bien un type compatible avec ce que j'attend. On trouve également dans le même fichier les algorithme que j'ai codé pour les structures d'arbre, essentiellement un printer.\n",
    " \n",
    "# Explication des choix\n",
    "\n",
    "Sachant d'après les algos que j'avais implémenté en M2 que ceux-ci était proche des arbres, j'ai décidé de créer ma propre structure d'arbre. Celle-ci est détaillé dans le répertoire tree.\n",
    "\n",
    "Les Expr étant des arbres, je voulais également les manipuler sans effort tout en me permettant de tester potentiellement d'autre structure d'arbre ensuite. Je savais également qu'il fallait que je reste abstrait sur ce répertoire car je savais que je m'en servirai également pour faire mes propres arbres d'expressions, qui serait facile à faire une fois mon type noeud-operateur défini.\n",
    "\n",
    "C'est pour cette raison que l'interface ne contient seulement que 2 fonctions, get_node et get_children.\n",
    "\n",
    "\n",
    "# Algo \n",
    "\n",
    "seulement un printer d'arbre\n",
    "\n"
   ]
  }
 ],
 "metadata": {
  "kernelspec": {
   "display_name": "Julia 1.0.3",
   "language": "julia",
   "name": "julia-1.0"
  },
  "language_info": {
   "file_extension": ".jl",
   "mimetype": "application/julia",
   "name": "julia",
   "version": "1.0.3"
  }
 },
 "nbformat": 4,
 "nbformat_minor": 2
}
