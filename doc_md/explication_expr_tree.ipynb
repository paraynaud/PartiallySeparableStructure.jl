{
 "cells": [
  {
   "cell_type": "markdown",
   "metadata": {},
   "source": [
    "# Pré-requis\n",
    " - Avoir lu l'explication de la structure.\n",
    " - Pour retrouver les fichiers qui seront cités par la suite il faut se placer dans le répertoire: \n",
    "    - src/expr_tree/ \n",
    "    \n",
    "    \n",
    "# Objectifs : \n",
    " - Ce répertoire à pour but de faire l'interface entre un type quelconque et le comportement d'un arbre d'expression.\n",
    " - Créer des fonctions qui travaillerons de la même manière sur des types différents, du moment que leurs comportement est implémenté.\n",
    " \n",
    "# Contenu du répertoire : \n",
    " - le répertoire contient: \n",
    "   - Un ordered_include.jl, semblant de makefile, qui veille à ce que les fichiers soient appelé dans le bon ordre.\n",
    "   - Une interface itf_expr_tree.jl, qui définit les fonctions que devrons satisfaire les types/struct implémentant un arbre d'expression. \n",
    "   - un fichier abs_expr_tree.jl, définissant un type abstrait d'arbre d'expression, étant un sous-type d'un arbre. On définit également un fonction construit une Expr.\n",
    "   - 2 implémentations de comportement d'arbre d'expression:\n",
    "     - Un étant issu de la combinaison de mon type arbre générique, et de mes types opérateurs définit dans node_expr_tree, impl_expr_tree.jl\n",
    "     - Un implémentant les fonctions requise par l'interface pour le type Expr, impl_expr_tree_Expr.jl\n",
    "   - Finalement un fichier où est définit le trait des arbres d'expressions et les algorithmes pouvant être appelé sur les types/struct étant dans le trait, tr_expr_tree.jl : \n",
    "     - On y trouve également une redéfinition de l'égalité etre les arbres.\n",
    "     - Dans la partie algorithme : \n",
    "       - une fonction transformant une Expr en arbre type_expr\n",
    "       - une fonction déterminant les fonctions éléments de la même manière (mais en plus efficace) que celle réalisé pendant mon stage.\n",
    "       - une fonction typant un arbre répondant au critère du trait.\n",
    "       \n",
    "       \n",
    "# Ce qu'il reste à faire \n",
    "\n",
    "- Faire l'algorithme permettant d'obtenir les U_i\n",
    "- Des fonctions efficaces d'évaluations d'arbre d'expression, car elles seront nécessaires à forward diff.\n",
    "- Faire une structure efficace pour regrouper les information importantes sur les fonctions éléments.\n",
    "- Coder une méthode de Trust Region, en utilisant le gradient conjugué, et les fonctions partiellement séparable pour obtenir le Hessian (potentiellement le gradient).\n",
    "- Etoffer les tests et la documentation du code. Faire le graphe des dépendances entre répertoire. Comparer les résultats avec JuMP.\n",
    "\n",
    "\n",
    "   \n",
    "     "
   ]
  }
 ],
 "metadata": {
  "kernelspec": {
   "display_name": "Python 3",
   "language": "python",
   "name": "python3"
  },
  "language_info": {
   "codemirror_mode": {
    "name": "ipython",
    "version": 3
   },
   "file_extension": ".py",
   "mimetype": "text/x-python",
   "name": "python",
   "nbconvert_exporter": "python",
   "pygments_lexer": "ipython3",
   "version": "3.7.3"
  }
 },
 "nbformat": 4,
 "nbformat_minor": 2
}
